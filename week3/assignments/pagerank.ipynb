{
 "cells": [
  {
   "cell_type": "markdown",
   "id": "87d64ccf",
   "metadata": {},
   "source": [
    "Use this cell for all your imports"
   ]
  },
  {
   "cell_type": "code",
   "execution_count": 18,
   "id": "40623a0d",
   "metadata": {},
   "outputs": [],
   "source": [
    "import numpy as np\n",
    "import matplotlib.pyplot as plt\n",
    "import plotly\n",
    "import networkx as nx\n",
    "from scipy.sparse import csr_matrix"
   ]
  },
  {
   "cell_type": "markdown",
   "id": "164f305b",
   "metadata": {},
   "source": [
    "You will be working with the file data.txt. Use this cell to load its content into the appropriate data structure."
   ]
  },
  {
   "cell_type": "markdown",
   "id": "9f37f3fe",
   "metadata": {},
   "source": [
    "###### Note that the adjacency matrix is too big to fit in memory, that's why we used a sparse matrix instead of a dense matrix"
   ]
  },
  {
   "cell_type": "code",
   "execution_count": 7,
   "id": "e826e46f-be5c-4a36-91e8-4db9499bfd6b",
   "metadata": {},
   "outputs": [],
   "source": [
    "with open('data.txt', 'r') as f:\n",
    "    # skip the first three lines\n",
    "    for _ in range(3):\n",
    "        next(f)\n",
    "    \n",
    "    # read the data and convert to integers\n",
    "    data = []\n",
    "    for line in f:\n",
    "        if not line.startswith('#'):\n",
    "            from_node, to_node = map(int, line.strip().split())\n",
    "            data.append((from_node, to_node))"
   ]
  },
  {
   "cell_type": "markdown",
   "id": "4c7a8af4",
   "metadata": {},
   "source": [
    "Use this cell to normalize the matrix as you see fit."
   ]
  },
  {
   "cell_type": "code",
   "execution_count": 10,
   "id": "2e612783",
   "metadata": {},
   "outputs": [],
   "source": [
    "n_nodes = np.max(data)  # assumes that node IDs start at 1 and are consecutive integers\n",
    "row, col = np.array(data).T - 1  # convert to 0-based indexing\n",
    "adjacency_matrix = csr_matrix((np.ones(len(data)), (row, col)), shape=(n_nodes, n_nodes))"
   ]
  },
  {
   "cell_type": "markdown",
   "id": "5a4ee89a",
   "metadata": {},
   "source": [
    "Apply the PageRank algorithm to the matrix you created."
   ]
  },
  {
   "cell_type": "code",
   "execution_count": 11,
   "id": "ae9319ef",
   "metadata": {},
   "outputs": [
    {
     "name": "stdout",
     "output_type": "stream",
     "text": [
      "Node: 9407087, Score: 0.006239\n",
      "Node: 9503124, Score: 0.004633\n",
      "Node: 9510017, Score: 0.004385\n",
      "Node: 9402044, Score: 0.003935\n",
      "Node: 9711200, Score: 0.003410\n",
      "Node: 9410167, Score: 0.003407\n",
      "Node: 9408099, Score: 0.003190\n",
      "Node: 9207016, Score: 0.003114\n",
      "Node: 9402002, Score: 0.002962\n",
      "Node: 9610043, Score: 0.002753\n"
     ]
    }
   ],
   "source": [
    "edges = [(pair[0], pair[1]) for pair in data]\n",
    "\n",
    "graph = nx.DiGraph()\n",
    "graph.add_edges_from(edges)\n",
    "\n",
    "pagerank_scores = nx.pagerank(graph)\n",
    "\n",
    "top_nodes = sorted(pagerank_scores.items(), key=lambda x: x[1], reverse=True)[:10]\n",
    "for node, score in top_nodes:\n",
    "    print(f\"Node: {node}, Score: {score:.6f}\")"
   ]
  },
  {
   "cell_type": "markdown",
   "id": "005047ad",
   "metadata": {},
   "source": [
    "Output a list of the 100 most important papers along with their importance"
   ]
  },
  {
   "cell_type": "code",
   "execution_count": 19,
   "id": "46d1896d",
   "metadata": {},
   "outputs": [
    {
     "name": "stdout",
     "output_type": "stream",
     "text": [
      "Paper ID: 9407087\tScore: 0.006238910935211816\n",
      "Paper ID: 9503124\tScore: 0.004632588508880583\n",
      "Paper ID: 9510017\tScore: 0.004385169336798882\n",
      "Paper ID: 9402044\tScore: 0.003935347334410061\n",
      "Paper ID: 9711200\tScore: 0.003409682539237107\n",
      "Paper ID: 9410167\tScore: 0.003407370515336672\n",
      "Paper ID: 9408099\tScore: 0.003189869048538741\n",
      "Paper ID: 9207016\tScore: 0.0031138613638518916\n",
      "Paper ID: 9402002\tScore: 0.002962458707729362\n",
      "Paper ID: 9610043\tScore: 0.002752903011864363\n",
      "Paper ID: 9205068\tScore: 0.0026620045653103306\n",
      "Paper ID: 9510135\tScore: 0.0025914346362725235\n",
      "Paper ID: 9201015\tScore: 0.002554349977912874\n",
      "Paper ID: 9205027\tScore: 0.0024590344235207247\n",
      "Paper ID: 9304154\tScore: 0.0023325190702325432\n",
      "Paper ID: 9802150\tScore: 0.002255515474336809\n",
      "Paper ID: 9401139\tScore: 0.002245953898458351\n",
      "Paper ID: 9504090\tScore: 0.0021065021774172212\n",
      "Paper ID: 9802109\tScore: 0.0020708807846539345\n",
      "Paper ID: 208020\tScore: 0.002068525647306938\n",
      "Paper ID: 9305185\tScore: 0.002040554603308644\n",
      "Paper ID: 9207053\tScore: 0.001993148466776629\n",
      "Paper ID: 9307049\tScore: 0.0018877092880419076\n",
      "Paper ID: 9204102\tScore: 0.00185282567880761\n",
      "Paper ID: 9510209\tScore: 0.0018088035867362374\n",
      "Paper ID: 9501068\tScore: 0.0017535413045740883\n",
      "Paper ID: 9906064\tScore: 0.001751879510120554\n",
      "Paper ID: 9402032\tScore: 0.0017213918536802015\n",
      "Paper ID: 9301042\tScore: 0.0016397245084036997\n",
      "Paper ID: 9403198\tScore: 0.0015958581939701318\n",
      "Paper ID: 9412184\tScore: 0.0015496931103804333\n",
      "Paper ID: 9408074\tScore: 0.0015258849343282505\n",
      "Paper ID: 9504047\tScore: 0.0015156794311740219\n",
      "Paper ID: 9411149\tScore: 0.001506574777429963\n",
      "Paper ID: 9205081\tScore: 0.001471506906205383\n",
      "Paper ID: 9308139\tScore: 0.001468645235097103\n",
      "Paper ID: 9601029\tScore: 0.0014486524799507663\n",
      "Paper ID: 9208055\tScore: 0.0014432770672269857\n",
      "Paper ID: 9407031\tScore: 0.0014351797684356853\n",
      "Paper ID: 9211056\tScore: 0.0014333609029919371\n",
      "Paper ID: 9209016\tScore: 0.0014307947869440444\n",
      "Paper ID: 9201019\tScore: 0.0014287607057724674\n",
      "Paper ID: 9204083\tScore: 0.0014023316546094844\n",
      "Paper ID: 9908142\tScore: 0.0013961530795430536\n",
      "Paper ID: 9602052\tScore: 0.0013405206041600518\n",
      "Paper ID: 9201054\tScore: 0.0013350018323307008\n",
      "Paper ID: 9402005\tScore: 0.0013158842616597028\n",
      "Paper ID: 9205051\tScore: 0.0012981851904807207\n",
      "Paper ID: 9207060\tScore: 0.0012864093250778731\n",
      "Paper ID: 9201061\tScore: 0.0012653520673838728\n",
      "Paper ID: 9508143\tScore: 0.0012454995880145892\n",
      "Paper ID: 9510169\tScore: 0.001244149884812334\n",
      "Paper ID: 9711162\tScore: 0.0012358228920729332\n",
      "Paper ID: 9211097\tScore: 0.0012049579947022698\n",
      "Paper ID: 9303057\tScore: 0.0011559727400047458\n",
      "Paper ID: 9501030\tScore: 0.0011551224627219477\n",
      "Paper ID: 9512062\tScore: 0.001152228172914053\n",
      "Paper ID: 9212085\tScore: 0.0011482254397214473\n",
      "Paper ID: 9203066\tScore: 0.0011395498302745274\n",
      "Paper ID: 9309097\tScore: 0.001096177318533709\n",
      "Paper ID: 9505053\tScore: 0.0010713175949293285\n",
      "Paper ID: 9611050\tScore: 0.0010699124981604971\n",
      "Paper ID: 9409089\tScore: 0.0010582170961610502\n",
      "Paper ID: 9512077\tScore: 0.00105767599419273\n",
      "Paper ID: 9204099\tScore: 0.0010447496269790112\n",
      "Paper ID: 9405124\tScore: 0.0010330433298317428\n",
      "Paper ID: 9511030\tScore: 0.001031992543153098\n",
      "Paper ID: 9403040\tScore: 0.0010128340075902227\n",
      "Paper ID: 9205037\tScore: 0.0010007562280766754\n",
      "Paper ID: 9608024\tScore: 0.0009883631558846107\n",
      "Paper ID: 9205008\tScore: 0.0009873499233636447\n",
      "Paper ID: 9201059\tScore: 0.0009713312513698083\n",
      "Paper ID: 9206016\tScore: 0.0009531802292108291\n",
      "Paper ID: 9504027\tScore: 0.0009459826613365553\n",
      "Paper ID: 9209116\tScore: 0.0009458857328682476\n",
      "Paper ID: 9208078\tScore: 0.0009458037394655039\n",
      "Paper ID: 9309145\tScore: 0.0009357931340481195\n",
      "Paper ID: 9403195\tScore: 0.0009329383107924373\n",
      "Paper ID: 9406128\tScore: 0.0009287039218523411\n",
      "Paper ID: 9201056\tScore: 0.0009164928331741118\n",
      "Paper ID: 9512059\tScore: 0.0009124900133887187\n",
      "Paper ID: 9602022\tScore: 0.0009000761208606433\n",
      "Paper ID: 9905111\tScore: 0.000899336953083047\n",
      "Paper ID: 9507121\tScore: 0.0008931520221495847\n",
      "Paper ID: 9910093\tScore: 0.0008810541397424815\n",
      "Paper ID: 9510086\tScore: 0.0008541896003440484\n",
      "Paper ID: 9411048\tScore: 0.0008483779150919323\n",
      "Paper ID: 9507158\tScore: 0.0008440029800782472\n",
      "Paper ID: 9410073\tScore: 0.0008419291826790967\n",
      "Paper ID: 9511222\tScore: 0.0008283625177929086\n",
      "Paper ID: 9602135\tScore: 0.0008268124294984038\n",
      "Paper ID: 9611042\tScore: 0.0008257159474130413\n",
      "Paper ID: 9504145\tScore: 0.0008193759861939757\n",
      "Paper ID: 9506194\tScore: 0.0008108888729566522\n",
      "Paper ID: 9602043\tScore: 0.0008079027228056675\n",
      "Paper ID: 9407111\tScore: 0.0007946125462059471\n",
      "Paper ID: 9506126\tScore: 0.0007916848496729912\n",
      "Paper ID: 9507050\tScore: 0.0007778248401465196\n",
      "Paper ID: 9411057\tScore: 0.0007762991993368323\n",
      "Paper ID: 9510225\tScore: 0.0007758015378405597\n"
     ]
    }
   ],
   "source": [
    "import operator\n",
    "\n",
    "# Run PageRank algorithm\n",
    "pr = nx.pagerank(graph)\n",
    "\n",
    "# Sort dictionary by value in descending order\n",
    "sorted_pr = sorted(pr.items(), key=operator.itemgetter(1), reverse=True)\n",
    "\n",
    "# Print top 100 paper IDs and PageRank scores\n",
    "for i, (node, score) in enumerate(sorted_pr[:100]):\n",
    "    print(f\"Paper ID: {node}\\tScore: {score}\")\n",
    "\n",
    "    if i == 99:\n",
    "        break"
   ]
  },
  {
   "cell_type": "markdown",
   "id": "b0ba2208",
   "metadata": {},
   "source": [
    "Visualize your results"
   ]
  },
  {
   "cell_type": "code",
   "execution_count": 21,
   "id": "25affee6",
   "metadata": {},
   "outputs": [
    {
     "data": {
      "image/png": "[encoded data removed]",
      "text/plain": [
       "<Figure size 432x288 with 1 Axes>"
      ]
     },
     "metadata": {
      "needs_background": "light"
     },
     "output_type": "display_data"
    }
   ],
   "source": [
    "pagerank_scores = nx.pagerank(graph)\n",
    "\n",
    "top_papers = sorted(pagerank_scores.items(), key=lambda x: x[1], reverse=True)[:100]\n",
    "scores = [score for paper, score in top_papers]\n",
    "\n",
    "\n",
    "plt.hist(scores, bins=20)\n",
    "plt.xlabel('PageRank score')\n",
    "plt.ylabel('Frequency')\n",
    "plt.title('top 100 papers')\n",
    "plt.show()"
   ]
  }
 ],
 "metadata": {
  "kernelspec": {
   "display_name": "Python 3",
   "language": "python",
   "name": "python3"
  },
  "language_info": {
   "codemirror_mode": {
    "name": "ipython",
    "version": 3
   },
   "file_extension": ".py",
   "mimetype": "text/x-python",
   "name": "python",
   "nbconvert_exporter": "python",
   "pygments_lexer": "ipython3",
   "version": "3.8.8"
  }
 },
 "nbformat": 4,
 "nbformat_minor": 5
}
