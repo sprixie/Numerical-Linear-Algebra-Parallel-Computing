{
 "cells": [
  {
   "cell_type": "markdown",
   "id": "87d64ccf",
   "metadata": {},
   "source": [
    "Use this cell for all your imports"
   ]
  },
  {
   "cell_type": "code",
   "execution_count": 1,
   "id": "40623a0d",
   "metadata": {},
   "outputs": [],
   "source": [
    "import numpy as np\n",
    "import matplotlib.pyplot as plt\n",
    "import plotly\n",
    "from scipy.sparse import csr_matrix"
   ]
  },
  {
   "cell_type": "markdown",
   "id": "164f305b",
   "metadata": {},
   "source": [
    "You will be working with the file data.txt. Use this cell to load its content into the appropriate data structure."
   ]
  },
  {
   "cell_type": "code",
   "execution_count": 2,
   "id": "e826e46f-be5c-4a36-91e8-4db9499bfd6b",
   "metadata": {},
   "outputs": [],
   "source": [
    "with open('data.txt', 'r') as f:\n",
    "    # skip the first three lines\n",
    "    for _ in range(3):\n",
    "        next(f)\n",
    "    \n",
    "    # read the data and convert to integers\n",
    "    data = []\n",
    "    for line in f:\n",
    "        if not line.startswith('#'):\n",
    "            from_node, to_node = map(int, line.strip().split())\n",
    "            data.append((from_node, to_node))"
   ]
  },
  {
   "cell_type": "markdown",
   "id": "4c7a8af4",
   "metadata": {},
   "source": [
    "Use this cell to normalize the matrix as you see fit."
   ]
  },
  {
   "cell_type": "code",
   "execution_count": 3,
   "id": "2e612783",
   "metadata": {},
   "outputs": [],
   "source": [
    "n_nodes = np.max(data)  # assumes that node IDs start at 1 and are consecutive integers\n",
    "row, col = np.array(data).T - 1  # convert to 0-based indexing\n",
    "normalized_matrix = csr_matrix((np.ones(len(data)), (row, col)), shape=(n_nodes, n_nodes))"
   ]
  },
  {
   "cell_type": "markdown",
   "id": "5a4ee89a",
   "metadata": {},
   "source": [
    "Apply the PageRank algorithm to the matrix you created."
   ]
  },
  {
   "cell_type": "code",
   "execution_count": 4,
   "id": "ae9319ef",
   "metadata": {},
   "outputs": [],
   "source": [
    "import numpy as np\n",
    "from scipy.sparse import csr_matrix\n",
    "\n",
    "# Set PageRank parameters\n",
    "alpha = 0.85  # damping factor\n",
    "max_iter = 100  # maximum number of iterations\n",
    "tolerance = 1e-6  # convergence tolerance\n",
    "\n",
    "# Initialize PageRank scores\n",
    "num_nodes = normalized_matrix.shape[0]\n",
    "pagerank = np.ones(num_nodes) / num_nodes\n",
    "\n",
    "# Run PageRank algorithm\n",
    "for i in range(max_iter):\n",
    "    prev_pagerank = pagerank.copy()\n",
    "    pagerank = normalized_matrix.dot(pagerank) * alpha + (1 - alpha) / num_nodes\n",
    "    delta = np.abs(pagerank - prev_pagerank).sum()\n",
    "    if delta < tolerance:\n",
    "        print(f\"Converged after {i+1} iterations\")\n",
    "        break\n"
   ]
  },
  {
   "cell_type": "markdown",
   "id": "005047ad",
   "metadata": {},
   "source": [
    "Output a list of the 100 most important papers along with their importance"
   ]
  },
  {
   "cell_type": "code",
   "execution_count": 7,
   "id": "46d1896d",
   "metadata": {},
   "outputs": [
    {
     "name": "stdout",
     "output_type": "stream",
     "text": [
      "Paper ID: 304231\tImportance Score: 5.2317767062447375e+94\n",
      "Paper ID: 211177\tImportance Score: 3.948822774902738e+94\n",
      "Paper ID: 304113\tImportance Score: 3.479694327975449e+94\n",
      "Paper ID: 303059\tImportance Score: 3.3095613403282933e+94\n",
      "Paper ID: 301249\tImportance Score: 3.2142674544866087e+94\n",
      "Paper ID: 304024\tImportance Score: 3.002040510182118e+94\n",
      "Paper ID: 303219\tImportance Score: 2.9589440865898464e+94\n",
      "Paper ID: 302063\tImportance Score: 2.689789820608318e+94\n",
      "Paper ID: 301035\tImportance Score: 2.614651598456695e+94\n",
      "Paper ID: 303222\tImportance Score: 2.4871253615769376e+94\n",
      "Paper ID: 301149\tImportance Score: 2.2819492738320783e+94\n",
      "Paper ID: 303106\tImportance Score: 2.239460681710582e+94\n",
      "Paper ID: 303143\tImportance Score: 2.136158018154142e+94\n",
      "Paper ID: 301185\tImportance Score: 2.1005063021908346e+94\n",
      "Paper ID: 211216\tImportance Score: 2.0417475646965855e+94\n",
      "Paper ID: 302149\tImportance Score: 2.0376450983562766e+94\n",
      "Paper ID: 212268\tImportance Score: 1.9974745784946407e+94\n",
      "Paper ID: 210223\tImportance Score: 1.913659778623512e+94\n",
      "Paper ID: 303114\tImportance Score: 1.8116096620590286e+94\n",
      "Paper ID: 212207\tImportance Score: 1.804068168315123e+94\n",
      "Paper ID: 205186\tImportance Score: 1.6732209935900906e+94\n",
      "Paper ID: 301008\tImportance Score: 1.6659349165115484e+94\n",
      "Paper ID: 302059\tImportance Score: 1.6535235183308376e+94\n",
      "Paper ID: 206061\tImportance Score: 1.6345365664724014e+94\n",
      "Paper ID: 212342\tImportance Score: 1.6137693354505527e+94\n",
      "Paper ID: 301216\tImportance Score: 1.5654189616833037e+94\n",
      "Paper ID: 301135\tImportance Score: 1.518397218801337e+94\n",
      "Paper ID: 210152\tImportance Score: 1.4543262109673093e+94\n",
      "Paper ID: 211031\tImportance Score: 1.453663522245017e+94\n",
      "Paper ID: 304118\tImportance Score: 1.448842884828375e+94\n",
      "Paper ID: 206028\tImportance Score: 1.3681949919112304e+94\n",
      "Paper ID: 303031\tImportance Score: 1.340112435164149e+94\n",
      "Paper ID: 109121\tImportance Score: 1.339400994123407e+94\n",
      "Paper ID: 210101\tImportance Score: 1.326846581596645e+94\n",
      "Paper ID: 301195\tImportance Score: 1.3132689335279433e+94\n",
      "Paper ID: 204111\tImportance Score: 1.311973219577305e+94\n",
      "Paper ID: 304190\tImportance Score: 1.2709514364401604e+94\n",
      "Paper ID: 211219\tImportance Score: 1.2695148915647123e+94\n",
      "Paper ID: 206009\tImportance Score: 1.2605951846742718e+94\n",
      "Paper ID: 301010\tImportance Score: 1.2561430892378543e+94\n",
      "Paper ID: 212117\tImportance Score: 1.242874823995377e+94\n",
      "Paper ID: 209200\tImportance Score: 1.2382670673151458e+94\n",
      "Paper ID: 301225\tImportance Score: 1.2112245185987976e+94\n",
      "Paper ID: 207036\tImportance Score: 1.2080830975932826e+94\n",
      "Paper ID: 212046\tImportance Score: 1.1645244124286371e+94\n",
      "Paper ID: 301134\tImportance Score: 1.1501142150595325e+94\n",
      "Paper ID: 209159\tImportance Score: 1.1456423130687393e+94\n",
      "Paper ID: 303192\tImportance Score: 1.140891926185394e+94\n",
      "Paper ID: 304182\tImportance Score: 1.1269073830504199e+94\n",
      "Paper ID: 208017\tImportance Score: 1.126856853602407e+94\n",
      "Paper ID: 209144\tImportance Score: 1.1227784641964632e+94\n",
      "Paper ID: 303267\tImportance Score: 1.0897285524442276e+94\n",
      "Paper ID: 201209\tImportance Score: 1.0818315464156588e+94\n",
      "Paper ID: 303206\tImportance Score: 1.0815915406609902e+94\n",
      "Paper ID: 210245\tImportance Score: 1.0772533052415382e+94\n",
      "Paper ID: 303254\tImportance Score: 1.0764554683880024e+94\n",
      "Paper ID: 208231\tImportance Score: 1.0720166936010602e+94\n",
      "Paper ID: 212230\tImportance Score: 1.0486498596801977e+94\n",
      "Paper ID: 212273\tImportance Score: 1.0295043799288297e+94\n",
      "Paper ID: 211197\tImportance Score: 1.0276713388527592e+94\n",
      "Paper ID: 205310\tImportance Score: 1.021263509438566e+94\n",
      "Paper ID: 301202\tImportance Score: 1.0157550135785147e+94\n",
      "Paper ID: 301089\tImportance Score: 1.0094471496373196e+94\n",
      "Paper ID: 209214\tImportance Score: 9.958263814861279e+93\n",
      "Paper ID: 304179\tImportance Score: 9.80057379974603e+93\n",
      "Paper ID: 304168\tImportance Score: 9.728896845708091e+93\n",
      "Paper ID: 209262\tImportance Score: 9.623116214611105e+93\n",
      "Paper ID: 301034\tImportance Score: 9.445596783452724e+93\n",
      "Paper ID: 211187\tImportance Score: 9.330864895582889e+93\n",
      "Paper ID: 205250\tImportance Score: 9.259855154308793e+93\n",
      "Paper ID: 207256\tImportance Score: 9.059783710184716e+93\n",
      "Paper ID: 304027\tImportance Score: 8.987607195064582e+93\n",
      "Paper ID: 208177\tImportance Score: 8.973625854263626e+93\n",
      "Paper ID: 301079\tImportance Score: 8.754371957011448e+93\n",
      "Paper ID: 206093\tImportance Score: 8.740400378382398e+93\n",
      "Paper ID: 209154\tImportance Score: 8.712572276863645e+93\n",
      "Paper ID: 209046\tImportance Score: 8.59913692269525e+93\n",
      "Paper ID: 304254\tImportance Score: 8.583993883616674e+93\n",
      "Paper ID: 303171\tImportance Score: 8.303788042067188e+93\n",
      "Paper ID: 210261\tImportance Score: 8.240170449348925e+93\n",
      "Paper ID: 212252\tImportance Score: 8.169383858264581e+93\n",
      "Paper ID: 209010\tImportance Score: 8.145092996500252e+93\n",
      "Paper ID: 303006\tImportance Score: 8.115412340658277e+93\n",
      "Paper ID: 205265\tImportance Score: 7.975166140020973e+93\n",
      "Paper ID: 203207\tImportance Score: 7.912429335232563e+93\n",
      "Paper ID: 211072\tImportance Score: 7.904957727121779e+93\n",
      "Paper ID: 205302\tImportance Score: 7.8492060492092075e+93\n",
      "Paper ID: 304071\tImportance Score: 7.836077764664038e+93\n",
      "Paper ID: 202192\tImportance Score: 7.79259739715712e+93\n",
      "Paper ID: 303033\tImportance Score: 7.765905032437065e+93\n",
      "Paper ID: 301070\tImportance Score: 7.7183566892085925e+93\n",
      "Paper ID: 302004\tImportance Score: 7.694554360323707e+93\n",
      "Paper ID: 303034\tImportance Score: 7.687254091053088e+93\n",
      "Paper ID: 206166\tImportance Score: 7.65705331503573e+93\n",
      "Paper ID: 203234\tImportance Score: 7.596773075058021e+93\n",
      "Paper ID: 206247\tImportance Score: 7.575207604199612e+93\n",
      "Paper ID: 211284\tImportance Score: 7.571276686465982e+93\n",
      "Paper ID: 303213\tImportance Score: 7.548256677061965e+93\n",
      "Paper ID: 207115\tImportance Score: 7.509600846609356e+93\n",
      "Paper ID: 209001\tImportance Score: 7.504158971185847e+93\n"
     ]
    }
   ],
   "source": [
    "# Sort nodes by PageRank score in descending order\n",
    "pagerank_scores = {i: score for i, score in enumerate(pagerank)}\n",
    "\n",
    "sorted_nodes = sorted(pagerank_scores.items(), key=lambda x: x[1], reverse=True)\n",
    "\n",
    "for node, score in sorted_nodes[:100]:\n",
    "    print(f\"Paper ID: {node}\\tImportance Score: {score}\")"
   ]
  },
  {
   "cell_type": "markdown",
   "id": "b0ba2208",
   "metadata": {},
   "source": [
    "Visualize your results"
   ]
  },
  {
   "cell_type": "code",
   "execution_count": 8,
   "id": "25affee6",
   "metadata": {},
   "outputs": [
    {
     "data": {
      "image/png": "[encoded data removed]",
      "text/plain": [
       "<Figure size 432x288 with 1 Axes>"
      ]
     },
     "metadata": {
      "needs_background": "light"
     },
     "output_type": "display_data"
    }
   ],
   "source": [
    "# Create a list of the top 100 paper scores\n",
    "top_scores = [score for _, score in sorted_scores[:100]]\n",
    "\n",
    "plt.hist(top_scores, bins=20)\n",
    "plt.xlabel('PageRank score')\n",
    "plt.ylabel('Frequency')\n",
    "plt.title('top 100 papers')\n",
    "plt.show()"
   ]
  },
  {
   "cell_type": "code",
   "execution_count": null,
   "id": "b7b41013-a039-4c34-99ad-8b34c9df4d6b",
   "metadata": {},
   "outputs": [],
   "source": []
  }
 ],
 "metadata": {
  "kernelspec": {
   "display_name": "Python 3",
   "language": "python",
   "name": "python3"
  },
  "language_info": {
   "codemirror_mode": {
    "name": "ipython",
    "version": 3
   },
   "file_extension": ".py",
   "mimetype": "text/x-python",
   "name": "python",
   "nbconvert_exporter": "python",
   "pygments_lexer": "ipython3",
   "version": "3.8.8"
  }
 },
 "nbformat": 4,
 "nbformat_minor": 5
}
