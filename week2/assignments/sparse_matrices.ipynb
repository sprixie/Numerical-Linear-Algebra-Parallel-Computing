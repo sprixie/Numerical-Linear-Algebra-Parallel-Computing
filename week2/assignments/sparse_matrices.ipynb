{
 "cells": [
  {
   "cell_type": "markdown",
   "id": "aea03da3",
   "metadata": {},
   "source": [
    "In this assignement, feel free to use the `sparse` module from `scipy`."
   ]
  },
  {
   "cell_type": "markdown",
   "id": "2df42bcc",
   "metadata": {},
   "source": [
    "Use the cell below for your imports."
   ]
  },
  {
   "cell_type": "code",
   "execution_count": 15,
   "id": "e9644e55",
   "metadata": {},
   "outputs": [],
   "source": [
    "import numpy as np\n",
    "from scipy.sparse import coo_matrix\n",
    "from scipy.sparse import csr_matrix\n",
    "from scipy.sparse.linalg import spsolve\n",
    "from scipy.sparse import rand"
   ]
  },
  {
   "cell_type": "markdown",
   "id": "8948a816",
   "metadata": {},
   "source": [
    "implement the function `mat_mul_coo` that takes two sparse matrices in `coo` and returns their product."
   ]
  },
  {
   "cell_type": "code",
   "execution_count": 2,
   "id": "6047ee0e",
   "metadata": {},
   "outputs": [],
   "source": [
    "def mat_mul_coo(A, B):\n",
    "   \n",
    "    assert A.shape[1] == B.shape[0], \"Matrices cannot be multiplied\"\n",
    "    \n",
    "    data = []\n",
    "    row = []\n",
    "    col = []\n",
    "    \n",
    "    \n",
    "    dict_B = {} #dic to store the non-zero elements of each row in B\n",
    "    for j, val in zip(B.row, B.data):\n",
    "        if j not in dict_B:\n",
    "            dict_B[j] = []\n",
    "        dict_B[j].append(val)\n",
    "    \n",
    "    for i, a_val in zip(A.row, A.data):\n",
    "        if a_val == 0:\n",
    "            continue\n",
    "        \n",
    "        #get non zero elements and column indices of this row in B\n",
    "        if i in dict_B:\n",
    "            b_vals = dict_B[i]\n",
    "            b_cols = B.col[B.row == i]\n",
    "        else:\n",
    "            b_vals = []\n",
    "            b_cols = []\n",
    "        \n",
    "        #dot product\n",
    "        for b_val, b_col in zip(b_vals, b_cols):\n",
    "            c_val = a_val * b_val\n",
    "            c_row = i\n",
    "            c_col = b_col\n",
    "            \n",
    "            #add result to the output matrix if it's non-zero\n",
    "            if c_val != 0:\n",
    "                data.append(c_val)\n",
    "                row.append(c_row)\n",
    "                col.append(c_col)\n",
    "    \n",
    "    #COO matrix\n",
    "    C = coo_matrix((data, (row, col)), shape=(A.shape[0], B.shape[1]))\n",
    "    \n",
    "    return C"
   ]
  },
  {
   "cell_type": "code",
   "execution_count": 4,
   "id": "2a99f071",
   "metadata": {},
   "outputs": [
    {
     "name": "stdout",
     "output_type": "stream",
     "text": [
      "[[0.30644342 0.        ]\n",
      " [0.         0.21796054]\n",
      " [0.         0.04908339]]\n"
     ]
    }
   ],
   "source": [
    "A = rand(3, 4, density=0.4, format='coo')\n",
    "B = rand(4, 2, density=0.4, format='coo')\n",
    "\n",
    "C = mat_mul_coo(A, B)\n",
    "\n",
    "print(C.toarray())"
   ]
  },
  {
   "cell_type": "markdown",
   "id": "4a626dec",
   "metadata": {},
   "source": [
    "implement the function `mat_mul_csr` that takes two sparse matrices in `csr` format and returns their product."
   ]
  },
  {
   "cell_type": "code",
   "execution_count": 13,
   "id": "c2e56fbd",
   "metadata": {},
   "outputs": [],
   "source": [
    "def mat_mul_csr(A, B):\n",
    "    \n",
    "    m, k1 = A.shape #rows and columns\n",
    "    k2, n = B.shape\n",
    "    \n",
    "    if k1 != k2:\n",
    "        raise ValueError(\"Matrices are not compatible for multiplication\")\n",
    "\n",
    "    dict_B = {}\n",
    "    for i, row in enumerate(B):\n",
    "        for j, val in zip(row.indices, row.data):\n",
    "            if j not in dict_B:\n",
    "                dict_B[j] = []\n",
    "            dict_B[j].append((i, val))\n",
    "\n",
    "    data = []\n",
    "    indices = []\n",
    "    indptr = [0]\n",
    "    for i, row in enumerate(A):\n",
    "        for j, val in zip(row.indices, row.data):\n",
    "            if j not in dict_B:\n",
    "                continue\n",
    "            b_vals = [v for (r, v) in dict_B[j]]\n",
    "            b_rows = [r for (r, v) in dict_B[j]]\n",
    "            for b_val, b_row in zip(b_vals, b_rows):\n",
    "                data.append(val * b_val)\n",
    "                indices.append(b_row)\n",
    "            indptr.append(len(indices))\n",
    "\n",
    "    C = csr_matrix((data, indices, indptr), shape=(m, n))\n",
    "\n",
    "    return C\n"
   ]
  },
  {
   "cell_type": "code",
   "execution_count": 14,
   "id": "608f918b",
   "metadata": {},
   "outputs": [
    {
     "name": "stdout",
     "output_type": "stream",
     "text": [
      "[[ 6  0]\n",
      " [ 8 21]\n",
      " [51  0]]\n"
     ]
    }
   ],
   "source": [
    "A = csr_matrix([[1, 0, 2], [0, 3, 0], [4, 0, 5]])\n",
    "B = csr_matrix([[6, 0], [0, 7], [8, 9]])\n",
    "\n",
    "C = mat_mul_csr(A, B)\n",
    "\n",
    "print(C.toarray())"
   ]
  },
  {
   "cell_type": "markdown",
   "id": "9592a90b",
   "metadata": {},
   "source": [
    "implement a function `solve_lin_sys` that takes a matrix `A` in `csr` format and a vector `b` as a numpy array and solves the system `Ax = b`."
   ]
  },
  {
   "cell_type": "code",
   "execution_count": 17,
   "id": "770c918b",
   "metadata": {},
   "outputs": [],
   "source": [
    "def solve_lin_sys(A, b):\n",
    "    \n",
    "    x = spsolve(A, b)\n",
    "    \n",
    "    return x"
   ]
  },
  {
   "cell_type": "code",
   "execution_count": 18,
   "id": "00edeb4c",
   "metadata": {},
   "outputs": [
    {
     "name": "stdout",
     "output_type": "stream",
     "text": [
      "[ 2.8  1.6 -1.4]\n"
     ]
    }
   ],
   "source": [
    "data = np.array([1, 2, 3, 4, 5])\n",
    "indices = np.array([0, 1, 2, 0, 1])\n",
    "indptr = np.array([0, 2, 4, 5])\n",
    "A = csr_matrix((data, indices, indptr))\n",
    "\n",
    "#right hand vector\n",
    "b = np.array([6, 7, 8])\n",
    "\n",
    "x = solve_lin_sys(A, b)\n",
    "\n",
    "# Print the solution vector x\n",
    "print(x)"
   ]
  }
 ],
 "metadata": {
  "kernelspec": {
   "display_name": "Python 3 (ipykernel)",
   "language": "python",
   "name": "python3"
  },
  "language_info": {
   "codemirror_mode": {
    "name": "ipython",
    "version": 3
   },
   "file_extension": ".py",
   "mimetype": "text/x-python",
   "name": "python",
   "nbconvert_exporter": "python",
   "pygments_lexer": "ipython3",
   "version": "3.10.5"
  }
 },
 "nbformat": 4,
 "nbformat_minor": 5
}
